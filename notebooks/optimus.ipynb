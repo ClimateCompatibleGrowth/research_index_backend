{
 "cells": [
  {
   "cell_type": "code",
   "execution_count": null,
   "metadata": {},
   "outputs": [],
   "source": [
    "from transformers import pipeline\n",
    "from typing import Any, List, Dict\n",
    "import pandas as pd\n",
    "import seaborn as sns"
   ]
  },
  {
   "cell_type": "code",
   "execution_count": null,
   "metadata": {},
   "outputs": [],
   "source": [
    "df = pd.read_excel('CCG Output Capture.xlsx', sheet_name='Add Output Here', usecols=['type', 'title', 'abstract'], engine='openpyxl')"
   ]
  },
  {
   "cell_type": "code",
   "execution_count": null,
   "metadata": {},
   "outputs": [],
   "source": [
    "df['abstract'] = df.abstract.str.replace('\\n', ' ')\n",
    "df.dropna().to_csv('corpus_type_title_abstract.csv')"
   ]
  },
  {
   "cell_type": "code",
   "execution_count": null,
   "metadata": {},
   "outputs": [],
   "source": [
    "question_answerer = pipeline(\"question-answering\", model='distilbert-base-cased-distilled-squad')"
   ]
  },
  {
   "cell_type": "code",
   "execution_count": null,
   "metadata": {},
   "outputs": [],
   "source": [
    "corpus = pd.read_csv('corpus_type_title_abstract.csv', usecols=['abstract'])['abstract'].to_list()"
   ]
  },
  {
   "cell_type": "code",
   "execution_count": null,
   "metadata": {},
   "outputs": [],
   "source": [
    "df = pd.read_csv('corpus_type_title_abstract.csv', usecols=['type', 'title', 'abstract'])\n",
    "articles = df[df['type'].str.contains('Jrnl')].copy()\n",
    "if articles.duplicated().any():\n",
    "    articles = articles.drop_duplicates(keep='first')\n",
    "\n",
    "article_abstracts = articles.abstract.to_list()\n",
    "article_titles = articles.title.to_list()"
   ]
  },
  {
   "cell_type": "code",
   "execution_count": null,
   "metadata": {},
   "outputs": [],
   "source": [
    "QUESTIONS = [\"What is the aim?\",\n",
    "             \"What is the objective?\",\n",
    "             \"What are the aims of the paper?\",\n",
    "             \"What are the objectives of the article?\"]"
   ]
  },
  {
   "cell_type": "code",
   "execution_count": null,
   "metadata": {},
   "outputs": [],
   "source": [
    "def answer_questions(questions: List, context: str) -> Dict[str, Any]:\n",
    "    \"\"\"Answers questions and returns the answer with the highest score\n",
    "\n",
    "    Arguments\n",
    "    ---------\n",
    "    questions: List\n",
    "        A list of questions to pose\n",
    "    context: str\n",
    "        The text to query\n",
    "\n",
    "    Returns\n",
    "    -------\n",
    "\n",
    "    \"\"\"\n",
    "    results = []\n",
    "    for question in questions:\n",
    "        result = question_answerer(question=question, context=context)\n",
    "        # print(f\"Question: {question}\")\n",
    "        # print(f\"Answer: '{result['answer']}', score: {round(result['score'], 4)}, start: {result['start']}, end: {result['end']}\")\n",
    "        results.append(result)\n",
    "    results.sort(key=lambda x: x['score'])\n",
    "    return results[-1]"
   ]
  },
  {
   "cell_type": "code",
   "execution_count": null,
   "metadata": {},
   "outputs": [],
   "source": [
    "answers = []\n",
    "hows = []\n",
    "who = []\n",
    "for abstract in article_abstracts:\n",
    "    results = []\n",
    "    answer = answer_questions(QUESTIONS, abstract)\n",
    "    answers.append(answer)\n",
    "\n",
    "    follow_up = [f\"How does it {answer}?\"]\n",
    "    how_result = answer_questions(follow_up, abstract)\n",
    "    hows.append(how_result)\n",
    "\n",
    "\n",
    "    follow_up = [\"Who will be affected?\",\n",
    "                 \"Who will be influenced?\",\n",
    "                 f\"Who will {answer} affect?\"\n",
    "                 ]\n",
    "    how_result = answer_questions(follow_up, abstract)\n",
    "    who.append(how_result)\n"
   ]
  },
  {
   "cell_type": "code",
   "execution_count": null,
   "metadata": {},
   "outputs": [],
   "source": [
    "articles['answers'] = [x['answer'] for x in answers]\n",
    "articles['score'] = [x['score'] for x in answers]\n",
    "articles['hows'] = [x['answer'] for x in hows]\n",
    "articles['how_score'] = [x['score'] for x in hows]\n",
    "articles['who'] = [x['answer'] for x in who]\n",
    "articles.to_excel('annotated_articles.xlsx')"
   ]
  },
  {
   "cell_type": "code",
   "execution_count": null,
   "metadata": {},
   "outputs": [],
   "source": [
    "articles.head()"
   ]
  },
  {
   "attachments": {},
   "cell_type": "markdown",
   "metadata": {},
   "source": [
    "# Classification"
   ]
  },
  {
   "cell_type": "code",
   "execution_count": null,
   "metadata": {},
   "outputs": [],
   "source": [
    "classify = pipeline('zero-shot-classification')"
   ]
  },
  {
   "cell_type": "code",
   "execution_count": null,
   "metadata": {},
   "outputs": [],
   "source": [
    "sequence = article_abstracts[20]\n",
    "candidate_labels = ['scenarios', 'modelling', 'surveys', 'literature', 'decarbonisation', 'development', 'finance', 'green growth', 'coal', 'renewables', 'natural gas', 'data', 'cooking', \"energy access\"]\n",
    "results = classify(sequence, candidate_labels, multi_label=True)\n",
    "sns.barplot(y=results['labels'], x=results['scores'], orient='h')"
   ]
  },
  {
   "cell_type": "code",
   "execution_count": null,
   "metadata": {},
   "outputs": [],
   "source": [
    "print(sequence)\n",
    "for label, score in zip(results['labels'], results['scores']):\n",
    "    print(f\"{label}: {score}\")"
   ]
  },
  {
   "cell_type": "code",
   "execution_count": null,
   "metadata": {},
   "outputs": [],
   "source": [
    "sum(results['scores'])"
   ]
  },
  {
   "cell_type": "code",
   "execution_count": null,
   "metadata": {},
   "outputs": [],
   "source": []
  },
  {
   "cell_type": "code",
   "execution_count": null,
   "metadata": {},
   "outputs": [],
   "source": []
  },
  {
   "cell_type": "code",
   "execution_count": null,
   "metadata": {},
   "outputs": [],
   "source": []
  }
 ],
 "metadata": {
  "kernelspec": {
   "display_name": "nlp",
   "language": "python",
   "name": "python3"
  },
  "language_info": {
   "codemirror_mode": {
    "name": "ipython",
    "version": 3
   },
   "file_extension": ".py",
   "mimetype": "text/x-python",
   "name": "python",
   "nbconvert_exporter": "python",
   "pygments_lexer": "ipython3",
   "version": "3.10.9"
  },
  "orig_nbformat": 4,
  "vscode": {
   "interpreter": {
    "hash": "4796cfb2886a8e48b3628ac6c0db4647177408c5779d4dcffc0f4558eb5a68b6"
   }
  }
 },
 "nbformat": 4,
 "nbformat_minor": 2
}
