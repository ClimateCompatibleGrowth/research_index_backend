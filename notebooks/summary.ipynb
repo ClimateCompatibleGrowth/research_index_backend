{
 "cells": [
  {
   "cell_type": "code",
   "execution_count": 1,
   "metadata": {},
   "outputs": [],
   "source": [
    "import pandas as pd"
   ]
  },
  {
   "cell_type": "code",
   "execution_count": 6,
   "metadata": {},
   "outputs": [],
   "source": [
    "df = pd.read_excel('230316_outputs.xlsx', usecols=['Type', 'title', 'url', 'doi'])"
   ]
  },
  {
   "attachments": {},
   "cell_type": "markdown",
   "metadata": {},
   "source": [
    "# Create a summary table of research outputs with counts or urls and dois"
   ]
  },
  {
   "cell_type": "code",
   "execution_count": 18,
   "metadata": {},
   "outputs": [],
   "source": [
    "df.groupby(by=['Type']).count().to_markdown('summary.md')"
   ]
  },
  {
   "attachments": {},
   "cell_type": "markdown",
   "metadata": {},
   "source": [
    "# Create a list of published papers with DOIs"
   ]
  },
  {
   "cell_type": "code",
   "execution_count": 39,
   "metadata": {},
   "outputs": [],
   "source": [
    "df[df['Type'].str.contains('Article', na=False)][['doi']].dropna().to_csv('ccg_papers.csv', index=False)"
   ]
  },
  {
   "attachments": {},
   "cell_type": "markdown",
   "metadata": {},
   "source": [
    "# Outputs without a DOI which do have a URL"
   ]
  },
  {
   "cell_type": "code",
   "execution_count": 50,
   "metadata": {},
   "outputs": [],
   "source": [
    "df[pd.isna(df['doi']) & ~pd.isna(df['url'])].to_csv(\"papers_url_no_doi.csv\")"
   ]
  },
  {
   "attachments": {},
   "cell_type": "markdown",
   "metadata": {},
   "source": [
    "# Datasets with no DOI"
   ]
  },
  {
   "cell_type": "code",
   "execution_count": 55,
   "metadata": {},
   "outputs": [
    {
     "data": {
      "text/html": [
       "<div>\n",
       "<style scoped>\n",
       "    .dataframe tbody tr th:only-of-type {\n",
       "        vertical-align: middle;\n",
       "    }\n",
       "\n",
       "    .dataframe tbody tr th {\n",
       "        vertical-align: top;\n",
       "    }\n",
       "\n",
       "    .dataframe thead th {\n",
       "        text-align: right;\n",
       "    }\n",
       "</style>\n",
       "<table border=\"1\" class=\"dataframe\">\n",
       "  <thead>\n",
       "    <tr style=\"text-align: right;\">\n",
       "      <th></th>\n",
       "      <th>Type</th>\n",
       "      <th>title</th>\n",
       "      <th>url</th>\n",
       "      <th>doi</th>\n",
       "    </tr>\n",
       "  </thead>\n",
       "  <tbody>\n",
       "    <tr>\n",
       "      <th>210</th>\n",
       "      <td>Data Set</td>\n",
       "      <td>Data set for Zenodo Repository</td>\n",
       "      <td>https://zenodo.org/record/5746601#.YbN3GL1ByCR</td>\n",
       "      <td>NaN</td>\n",
       "    </tr>\n",
       "    <tr>\n",
       "      <th>211</th>\n",
       "      <td>Data Set</td>\n",
       "      <td>Data set for Zenodo Repository</td>\n",
       "      <td>https://zenodo.org/record/5741262#.YbN3Gb1ByCR</td>\n",
       "      <td>NaN</td>\n",
       "    </tr>\n",
       "    <tr>\n",
       "      <th>212</th>\n",
       "      <td>Data Set</td>\n",
       "      <td>Data set for Zenodo Repository</td>\n",
       "      <td>https://zenodo.org/record/5741247#.YbN3Hb1ByCR</td>\n",
       "      <td>NaN</td>\n",
       "    </tr>\n",
       "    <tr>\n",
       "      <th>307</th>\n",
       "      <td>Data Set</td>\n",
       "      <td>Internal mapping of CCG stakeholders</td>\n",
       "      <td>CCG SharedPoint link</td>\n",
       "      <td>NaN</td>\n",
       "    </tr>\n",
       "    <tr>\n",
       "      <th>440</th>\n",
       "      <td>Data Set</td>\n",
       "      <td>Modelling datasets supporting CCG report \"Coal...</td>\n",
       "      <td>https://zenodo.org/record/4646918</td>\n",
       "      <td>NaN</td>\n",
       "    </tr>\n",
       "    <tr>\n",
       "      <th>441</th>\n",
       "      <td>Data Set</td>\n",
       "      <td>Data package for nismod/snail tutorials</td>\n",
       "      <td>https://zenodo.org/record/4646839</td>\n",
       "      <td>NaN</td>\n",
       "    </tr>\n",
       "    <tr>\n",
       "      <th>455</th>\n",
       "      <td>Data Set</td>\n",
       "      <td>CCG Transport Data for Starter Data Kit: Benin</td>\n",
       "      <td>NaN</td>\n",
       "      <td>NaN</td>\n",
       "    </tr>\n",
       "    <tr>\n",
       "      <th>621</th>\n",
       "      <td>Data Set</td>\n",
       "      <td>CCG CLEWs GitHub Repository</td>\n",
       "      <td>https://github.com/ClimateCompatibleGrowth/ccg...</td>\n",
       "      <td>NaN</td>\n",
       "    </tr>\n",
       "    <tr>\n",
       "      <th>723</th>\n",
       "      <td>Data Set</td>\n",
       "      <td>Global Recovery Observatory</td>\n",
       "      <td>https://recovery.smithschool.ox.ac.uk/tracking/</td>\n",
       "      <td>NaN</td>\n",
       "    </tr>\n",
       "    <tr>\n",
       "      <th>813</th>\n",
       "      <td>Data Set</td>\n",
       "      <td>Kenya Transport-Energy Database</td>\n",
       "      <td>https://doi.org/10.5281/zenodo.5769711</td>\n",
       "      <td>NaN</td>\n",
       "    </tr>\n",
       "    <tr>\n",
       "      <th>862</th>\n",
       "      <td>Data Set</td>\n",
       "      <td>OSeMOSYS Global workflow and data</td>\n",
       "      <td>https://github.com/OSeMOSYS/osemosys_global</td>\n",
       "      <td>NaN</td>\n",
       "    </tr>\n",
       "    <tr>\n",
       "      <th>1027</th>\n",
       "      <td>Data Set</td>\n",
       "      <td>Dataset supporting paper \"Material requirement...</td>\n",
       "      <td>https://doi.org/10.5281/zenodo.5497827</td>\n",
       "      <td>NaN</td>\n",
       "    </tr>\n",
       "    <tr>\n",
       "      <th>1257</th>\n",
       "      <td>Data Set</td>\n",
       "      <td>Global analysis of flooding direct damages to ...</td>\n",
       "      <td>The data processing pipeline was published ope...</td>\n",
       "      <td>NaN</td>\n",
       "    </tr>\n",
       "    <tr>\n",
       "      <th>1258</th>\n",
       "      <td>Data Set</td>\n",
       "      <td>Global analysis of storm damage to power lines...</td>\n",
       "      <td>Network data and hazard processing pipeline as...</td>\n",
       "      <td>NaN</td>\n",
       "    </tr>\n",
       "    <tr>\n",
       "      <th>1273</th>\n",
       "      <td>Data Set</td>\n",
       "      <td>Constituency Development Fund for CCG Zambia P...</td>\n",
       "      <td>https://airtable.com/appyIs0yxNCZJ4EGc/tblZuvS...</td>\n",
       "      <td>NaN</td>\n",
       "    </tr>\n",
       "  </tbody>\n",
       "</table>\n",
       "</div>"
      ],
      "text/plain": [
       "          Type                                              title  \\\n",
       "210   Data Set                     Data set for Zenodo Repository   \n",
       "211   Data Set                     Data set for Zenodo Repository   \n",
       "212   Data Set                     Data set for Zenodo Repository   \n",
       "307   Data Set               Internal mapping of CCG stakeholders   \n",
       "440   Data Set  Modelling datasets supporting CCG report \"Coal...   \n",
       "441   Data Set            Data package for nismod/snail tutorials   \n",
       "455   Data Set     CCG Transport Data for Starter Data Kit: Benin   \n",
       "621   Data Set                        CCG CLEWs GitHub Repository   \n",
       "723   Data Set                        Global Recovery Observatory   \n",
       "813   Data Set                    Kenya Transport-Energy Database   \n",
       "862   Data Set                  OSeMOSYS Global workflow and data   \n",
       "1027  Data Set  Dataset supporting paper \"Material requirement...   \n",
       "1257  Data Set  Global analysis of flooding direct damages to ...   \n",
       "1258  Data Set  Global analysis of storm damage to power lines...   \n",
       "1273  Data Set  Constituency Development Fund for CCG Zambia P...   \n",
       "\n",
       "                                                    url  doi  \n",
       "210      https://zenodo.org/record/5746601#.YbN3GL1ByCR  NaN  \n",
       "211      https://zenodo.org/record/5741262#.YbN3Gb1ByCR  NaN  \n",
       "212      https://zenodo.org/record/5741247#.YbN3Hb1ByCR  NaN  \n",
       "307                                CCG SharedPoint link  NaN  \n",
       "440                   https://zenodo.org/record/4646918  NaN  \n",
       "441                   https://zenodo.org/record/4646839  NaN  \n",
       "455                                                 NaN  NaN  \n",
       "621   https://github.com/ClimateCompatibleGrowth/ccg...  NaN  \n",
       "723     https://recovery.smithschool.ox.ac.uk/tracking/  NaN  \n",
       "813              https://doi.org/10.5281/zenodo.5769711  NaN  \n",
       "862         https://github.com/OSeMOSYS/osemosys_global  NaN  \n",
       "1027             https://doi.org/10.5281/zenodo.5497827  NaN  \n",
       "1257  The data processing pipeline was published ope...  NaN  \n",
       "1258  Network data and hazard processing pipeline as...  NaN  \n",
       "1273  https://airtable.com/appyIs0yxNCZJ4EGc/tblZuvS...  NaN  "
      ]
     },
     "execution_count": 55,
     "metadata": {},
     "output_type": "execute_result"
    }
   ],
   "source": [
    "datasets = df[df['Type'].str.contains('data set', case=False, na=False)]\n",
    "datasets[pd.isna(datasets['doi'])]"
   ]
  },
  {
   "cell_type": "code",
   "execution_count": 57,
   "metadata": {},
   "outputs": [
    {
     "data": {
      "text/html": [
       "<div>\n",
       "<style scoped>\n",
       "    .dataframe tbody tr th:only-of-type {\n",
       "        vertical-align: middle;\n",
       "    }\n",
       "\n",
       "    .dataframe tbody tr th {\n",
       "        vertical-align: top;\n",
       "    }\n",
       "\n",
       "    .dataframe thead th {\n",
       "        text-align: right;\n",
       "    }\n",
       "</style>\n",
       "<table border=\"1\" class=\"dataframe\">\n",
       "  <thead>\n",
       "    <tr style=\"text-align: right;\">\n",
       "      <th></th>\n",
       "      <th>Type</th>\n",
       "      <th>title</th>\n",
       "      <th>url</th>\n",
       "      <th>doi</th>\n",
       "    </tr>\n",
       "  </thead>\n",
       "  <tbody>\n",
       "    <tr>\n",
       "      <th>4</th>\n",
       "      <td>Jrnl Article - Submitted</td>\n",
       "      <td>Bank climate actions and their implications fo...</td>\n",
       "      <td>https://www.sciencedirect.com/science/article/...</td>\n",
       "      <td>10.1016/j.esr.2021.100799</td>\n",
       "    </tr>\n",
       "    <tr>\n",
       "      <th>620</th>\n",
       "      <td>Jrnl Article - Submitted</td>\n",
       "      <td>CCG Call for Papers Special Issue: Material re...</td>\n",
       "      <td>NaN</td>\n",
       "      <td>https://doi.org/10.21203/rs.3.rs-1160025/v1</td>\n",
       "    </tr>\n",
       "    <tr>\n",
       "      <th>774</th>\n",
       "      <td>Jrnl Article - Submitted</td>\n",
       "      <td>Reviewing the COVID-19 “Green Recovery”: rheto...</td>\n",
       "      <td>tbd</td>\n",
       "      <td>https://doi.org/10.1146/annurev-environ-112420...</td>\n",
       "    </tr>\n",
       "    <tr>\n",
       "      <th>1196</th>\n",
       "      <td>Jrnl Article - Submitted</td>\n",
       "      <td>Demand or Supply? An empirical exploration of ...</td>\n",
       "      <td>https://papers.ssrn.com/sol3/papers.cfm?abstra...</td>\n",
       "      <td>http://dx.doi.org/10.2139/ssrn.3943014</td>\n",
       "    </tr>\n",
       "  </tbody>\n",
       "</table>\n",
       "</div>"
      ],
      "text/plain": [
       "                          Type  \\\n",
       "4     Jrnl Article - Submitted   \n",
       "620   Jrnl Article - Submitted   \n",
       "774   Jrnl Article - Submitted   \n",
       "1196  Jrnl Article - Submitted   \n",
       "\n",
       "                                                  title  \\\n",
       "4     Bank climate actions and their implications fo...   \n",
       "620   CCG Call for Papers Special Issue: Material re...   \n",
       "774   Reviewing the COVID-19 “Green Recovery”: rheto...   \n",
       "1196  Demand or Supply? An empirical exploration of ...   \n",
       "\n",
       "                                                    url  \\\n",
       "4     https://www.sciencedirect.com/science/article/...   \n",
       "620                                                 NaN   \n",
       "774                                                 tbd   \n",
       "1196  https://papers.ssrn.com/sol3/papers.cfm?abstra...   \n",
       "\n",
       "                                                    doi  \n",
       "4                             10.1016/j.esr.2021.100799  \n",
       "620         https://doi.org/10.21203/rs.3.rs-1160025/v1  \n",
       "774   https://doi.org/10.1146/annurev-environ-112420...  \n",
       "1196             http://dx.doi.org/10.2139/ssrn.3943014  "
      ]
     },
     "execution_count": 57,
     "metadata": {},
     "output_type": "execute_result"
    }
   ],
   "source": [
    "df[df['Type'].str.contains('Article - Submitted', na=False) & ~pd.isna(df['doi'])]"
   ]
  },
  {
   "cell_type": "code",
   "execution_count": null,
   "metadata": {},
   "outputs": [],
   "source": []
  }
 ],
 "metadata": {
  "kernelspec": {
   "display_name": "nlp",
   "language": "python",
   "name": "python3"
  },
  "language_info": {
   "codemirror_mode": {
    "name": "ipython",
    "version": 3
   },
   "file_extension": ".py",
   "mimetype": "text/x-python",
   "name": "python",
   "nbconvert_exporter": "python",
   "pygments_lexer": "ipython3",
   "version": "3.10.9"
  },
  "orig_nbformat": 4
 },
 "nbformat": 4,
 "nbformat_minor": 2
}
